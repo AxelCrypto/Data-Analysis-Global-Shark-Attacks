{
 "cells": [
  {
   "cell_type": "code",
   "execution_count": null,
   "id": "142d8706",
   "metadata": {},
   "outputs": [],
   "source": [
    "Write a function that takes a string of parentheses, and determines if the order of the parentheses is valid. The function should return true if the string is valid, and false if it's invalid.\n",
    "\n",
    "Examples\n",
    "\"()\"              =>  true\n",
    "\")(()))\"          =>  false\n",
    "\"(\"               =>  false\n",
    "\"(())((()())())\"  =>  true"
   ]
  },
  {
   "cell_type": "code",
   "execution_count": 21,
   "id": "9c64630f",
   "metadata": {},
   "outputs": [],
   "source": [
    "def valid_parentheses(string):\n",
    "    count=0\n",
    "    for e in string:\n",
    "        print(e)\n",
    "        if count <0 :\n",
    "            return False\n",
    "        elif e == '(':\n",
    "            count= count +1\n",
    "        elif e == ')':\n",
    "            count= count -1\n",
    "        \n",
    "        print(count)\n",
    "        \n",
    "    return count == 0\n",
    "        \n",
    "        \n",
    "        \n",
    "\n",
    "\n"
   ]
  },
  {
   "cell_type": "code",
   "execution_count": 23,
   "id": "7f025ff6",
   "metadata": {},
   "outputs": [
    {
     "name": "stdout",
     "output_type": "stream",
     "text": [
      ")\n",
      "-1\n",
      "(\n"
     ]
    },
    {
     "data": {
      "text/plain": [
       "False"
      ]
     },
     "execution_count": 23,
     "metadata": {},
     "output_type": "execute_result"
    }
   ],
   "source": [
    "q = ')(())'\n",
    "valid_parentheses(q)"
   ]
  },
  {
   "cell_type": "code",
   "execution_count": null,
   "id": "0f821bdb",
   "metadata": {},
   "outputs": [],
   "source": []
  },
  {
   "cell_type": "code",
   "execution_count": null,
   "id": "0fbecd71",
   "metadata": {},
   "outputs": [],
   "source": []
  }
 ],
 "metadata": {
  "kernelspec": {
   "display_name": "Python 3 (ipykernel)",
   "language": "python",
   "name": "python3"
  },
  "language_info": {
   "codemirror_mode": {
    "name": "ipython",
    "version": 3
   },
   "file_extension": ".py",
   "mimetype": "text/x-python",
   "name": "python",
   "nbconvert_exporter": "python",
   "pygments_lexer": "ipython3",
   "version": "3.9.13"
  }
 },
 "nbformat": 4,
 "nbformat_minor": 5
}
