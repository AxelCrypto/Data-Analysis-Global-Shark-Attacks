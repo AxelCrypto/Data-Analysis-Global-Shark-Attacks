{
 "cells": [
  {
   "cell_type": "code",
   "execution_count": 85,
   "id": "32d9d839",
   "metadata": {},
   "outputs": [],
   "source": [
    "import pandas as pd\n",
    "\n",
    "def check_nan(df):\n",
    "    \n",
    "    lstnans = []\n",
    "    count = 0\n",
    "    nuls = 0\n",
    "    value = 0\n",
    "    for e in df:\n",
    "        if str(e).lower()==\"unknown\":\n",
    "            lstnans.append(1)\n",
    "        else: \n",
    "            lstnans.append(0)\n",
    "\n",
    "    for i in lstnans:\n",
    "        if i == 1: \n",
    "            nuls += 1\n",
    "            count += 1\n",
    "        else:\n",
    "            value += 1\n",
    "            count += 1\n",
    "    print('The ratio of unkowns is ', nuls/len(lstnans)*100,'%')\n"
   ]
  },
  {
   "cell_type": "code",
   "execution_count": null,
   "id": "f8c0841b",
   "metadata": {},
   "outputs": [],
   "source": []
  },
  {
   "cell_type": "code",
   "execution_count": null,
   "id": "195f8d83",
   "metadata": {},
   "outputs": [],
   "source": []
  },
  {
   "cell_type": "code",
   "execution_count": null,
   "id": "dcd602f3",
   "metadata": {},
   "outputs": [],
   "source": []
  }
 ],
 "metadata": {
  "kernelspec": {
   "display_name": "Python 3 (ipykernel)",
   "language": "python",
   "name": "python3"
  },
  "language_info": {
   "codemirror_mode": {
    "name": "ipython",
    "version": 3
   },
   "file_extension": ".py",
   "mimetype": "text/x-python",
   "name": "python",
   "nbconvert_exporter": "python",
   "pygments_lexer": "ipython3",
   "version": "3.9.13"
  }
 },
 "nbformat": 4,
 "nbformat_minor": 5
}
